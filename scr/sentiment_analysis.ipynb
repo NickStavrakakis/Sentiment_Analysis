{
 "cells": [
  {
   "cell_type": "markdown",
   "metadata": {},
   "source": [
    "# Sentiment Analysis"
   ]
  },
  {
   "cell_type": "markdown",
   "metadata": {},
   "source": [
    "## Προεπεξεργασία και καθάρισμα δεδομένων\n",
    "First, we are cleaning the *train2017.tsv* and *test2017.tsv* files and saving them as * *_cleaned.tsv*.\n",
    "More specifically, we are:\n",
    "* lower-casing the tweets\n",
    "* removing symbols (Hashtags, etc.)\n",
    "* removing emojis and unknown characters\n",
    "* deleting completely the mentions(@) and url's.\n",
    "* removing stop-words\n",
    "* applying stemming to all of the remaining words"
   ]
  },
  {
   "cell_type": "code",
   "execution_count": 1,
   "metadata": {},
   "outputs": [
    {
     "name": "stdout",
     "output_type": "stream",
     "text": [
      "Cleaning train2017.tsv...\n",
      "Done. Saved as train2017_cleaned.tsv\n",
      "\n",
      "Cleaning test2017.tsv...\n",
      "Done. Saved as test2017_cleaned.tsv\n",
      "\n"
     ]
    }
   ],
   "source": [
    "import string\n",
    "import csv\n",
    "import re\n",
    "from nltk.corpus import stopwords\n",
    "from nltk.tokenize import word_tokenize\n",
    "from nltk.stem import PorterStemmer\n",
    "\n",
    "def stemming(w):\n",
    "    ps = PorterStemmer()\n",
    "    return ps.stem(w)\n",
    "\n",
    "def cleaning(s, stem_flag=1):\n",
    "    s = re.sub(r\"(?:\\@|http)\\S+\", \"\", s) #removing urls and mentions\n",
    "    s = s.lower() #lowercase the current tweet\n",
    "    for char in string.punctuation:\n",
    "        s = s.replace(char, ' ')\n",
    "    cleared_string = \"\"\n",
    "    word_tokens = word_tokenize(s) \n",
    "    for word in word_tokens:\n",
    "        if word not in stopwords.words('english') and all(ord(char) < 128 for char in word):\n",
    "                if stem_flag:\n",
    "                    cleared_string += stemming(word) #not for wordclouds\n",
    "                else:\n",
    "                    cleared_string += word\n",
    "                cleared_string += ' '\n",
    "    return cleared_string\n",
    "\n",
    "print(\"Cleaning train2017.tsv...\")\n",
    "with open('../twitter_data/train2017.tsv') as input_file, open('../twitter_data/train2017_cleaned.tsv', 'w') as output_file:\n",
    "    reader = csv.reader(input_file, delimiter='\\t')\n",
    "    for row in reader:\n",
    "        cleaned_tweet = cleaning(row[3])\n",
    "        output_file.write(row[0] + '\\t' + row[1] + '\\t' + row[2] + '\\t' + cleaned_tweet + '\\n')\n",
    "print(\"Done. Saved as train2017_cleaned.tsv\\n\")\n",
    "\n",
    "print(\"Cleaning test2017.tsv...\")\n",
    "with open('../twitter_data/test2017.tsv') as input_file, open('../twitter_data/test2017_cleaned.tsv', 'w') as output_file:\n",
    "    reader = csv.reader(input_file, delimiter='\\t')\n",
    "    for row in reader:\n",
    "        cleaned_tweet = cleaning(row[3])\n",
    "        output_file.write(row[0] + '\\t' + row[1] + '\\t' + row[2] + '\\t' + cleaned_tweet + '\\n')\n",
    "print(\"Done. Saved as test2017_cleaned.tsv\\n\")"
   ]
  },
  {
   "cell_type": "markdown",
   "metadata": {},
   "source": [
    "## Ανάλυση των δεδομένων\n",
    "We are showing (for the *train2017_cleaned.tsv*) the\n",
    "* most common words in the whole dataset\n",
    "* most common words in the whole dataset for negative, positive and neutral tweets, respectively.\n",
    "\n",
    "Also, we are showing some graphs on some information we found interesting."
   ]
  },
  {
   "cell_type": "code",
   "execution_count": null,
   "metadata": {},
   "outputs": [],
   "source": [
    "all_tweets = []\n",
    "pos_tweets = []\n",
    "neg_tweets = []\n",
    "neu_tweets = []\n",
    "labels = []\n",
    "with open('../twitter_data/train2017.tsv') as input_file:\n",
    "    reader = csv.reader(input_file, delimiter='\\t')\n",
    "    for row in reader:\n",
    "        cleaned_tweet = cleaning(row[3], 0)\n",
    "        all_tweets.append(cleaned_tweet)\n",
    "        if row[2] == \"positive\":\n",
    "            pos_tweets.append(cleaned_tweet)\n",
    "        elif row[2] == \"negative\":\n",
    "            neg_tweets.append(cleaned_tweet)\n",
    "        else: #if neutral\n",
    "            neu_tweets.append(cleaned_tweet)"
   ]
  },
  {
   "cell_type": "markdown",
   "metadata": {},
   "source": [
    "### Wordclouds"
   ]
  },
  {
   "cell_type": "code",
   "execution_count": 3,
   "metadata": {},
   "outputs": [
    {
     "name": "stdout",
     "output_type": "stream",
     "text": [
      "Generating WordClouds...\n",
      "Done. Saved in scr/wordclouds/.\n",
      "\n"
     ]
    }
   ],
   "source": [
    "from wordcloud import WordCloud\n",
    "import matplotlib.pyplot as plt\n",
    "\n",
    "def generate_wc(x, name):\n",
    "    curr_wc = WordCloud( background_color = 'white', stopwords = stopwords.words('english'), min_font_size = 10).generate(x)\n",
    "    plt.figure(figsize = [8, 8])\n",
    "    plt.imshow(curr_wc, interpolation=\"bilinear\")\n",
    "    plt.axis(\"off\")\n",
    "    name = 'wordclouds/' + name + '.png'\n",
    "    plt.savefig(name, format=\"png\")\n",
    "\n",
    "print(\"Generating WordClouds...\")\n",
    "generate_wc((\" \").join(all_tweets), \"all_tweets_wordcloud\")\n",
    "generate_wc((\" \").join(pos_tweets), \"pos_tweets_wordcloud\")\n",
    "generate_wc((\" \").join(neg_tweets), \"neg_tweets_wordcloud\")\n",
    "generate_wc((\" \").join(neu_tweets), \"neu_tweets_wordcloud\")\n",
    "print(\"Done. Saved in scr/wordclouds/.\\n\")    "
   ]
  },
  {
   "cell_type": "markdown",
   "metadata": {},
   "source": [
    "### Graphs\n"
   ]
  },
  {
   "cell_type": "markdown",
   "metadata": {},
   "source": [
    "#### Most common positive/negative words in positive/negative tweets"
   ]
  },
  {
   "cell_type": "code",
   "execution_count": 7,
   "metadata": {},
   "outputs": [
    {
     "name": "stdout",
     "output_type": "stream",
     "text": [
      "Generating Graphs...\n",
      "Done.\n",
      "\n"
     ]
    },
    {
     "data": {
      "image/png": "[encoded data removed]",
      "text/plain": [
       "<Figure size 432x288 with 1 Axes>"
      ]
     },
     "metadata": {
      "needs_background": "light"
     },
     "output_type": "display_data"
    },
    {
     "data": {
      "image/png": "[encoded data removed]",
      "text/plain": [
       "<Figure size 432x288 with 1 Axes>"
      ]
     },
     "metadata": {
      "needs_background": "light"
     },
     "output_type": "display_data"
    }
   ],
   "source": [
    "from nltk.tokenize import word_tokenize\n",
    "import collections\n",
    "import pandas as pd\n",
    "import numpy as np\n",
    "import matplotlib.pyplot as plt\n",
    "from collections import Counter\n",
    "\n",
    "print(\"Generating Graphs...\")\n",
    "\n",
    "def generate_graph(curr_list, curr_type):\n",
    "    wordcount = {}\n",
    "    for tweet in curr_list:\n",
    "        tweet_tokens = word_tokenize(tweet)\n",
    "        for word in tweet_tokens:\n",
    "            with open('../lexica/affin/affin.txt') as input_file:\n",
    "                reader = csv.reader(input_file, delimiter='\\t')\n",
    "                for row in reader:\n",
    "                    if(row[0][0]>word[0]):\n",
    "                        break\n",
    "                    if(row[0] == word):\n",
    "                        if(curr_type == \"positive\"):\n",
    "                            if(int(row[1])>=2):\n",
    "                                if word not in wordcount:\n",
    "                                    wordcount[word] = 1\n",
    "                                else:\n",
    "                                    wordcount[word] += 1\n",
    "                        else: #elif(curr_type = \"negative\"):\n",
    "                            if(int(row[1])<=-2):\n",
    "                                if word not in wordcount:\n",
    "                                    wordcount[word] = 1\n",
    "                                else:\n",
    "                                    wordcount[word] += 1\n",
    "                        break\n",
    "    return wordcount\n",
    "\n",
    "word_counter = collections.Counter(generate_graph(pos_tweets, \"positive\"))\n",
    "lst = word_counter.most_common(10)\n",
    "df = pd.DataFrame(lst, columns = ['Positive Words', 'Total Appearances'])\n",
    "df.plot.barh(x='Positive Words',y='Total Appearances', color='green')\n",
    "\n",
    "word_counter = collections.Counter(generate_graph(neg_tweets, \"negative\"))\n",
    "lst = word_counter.most_common(10)\n",
    "df = pd.DataFrame(lst, columns = ['Negative Words', 'Total Appearances'])\n",
    "df.plot.barh(x='Negative Words',y='Total Appearances', color='red')\n",
    "\n",
    "print(\"Done.\\n\") "
   ]
  },
  {
   "cell_type": "markdown",
   "metadata": {},
   "source": [
    "#### Most common mentions in all the tweets for positive & negative reasons"
   ]
  },
  {
   "cell_type": "code",
   "execution_count": 8,
   "metadata": {},
   "outputs": [
    {
     "name": "stdout",
     "output_type": "stream",
     "text": [
      "Generating Graphs...\n",
      "Done.\n",
      "\n"
     ]
    },
    {
     "data": {
      "image/png": "[encoded data removed]",
      "text/plain": [
       "<Figure size 432x288 with 1 Axes>"
      ]
     },
     "metadata": {
      "needs_background": "light"
     },
     "output_type": "display_data"
    },
    {
     "data": {
      "image/png": "[encoded data removed]",
      "text/plain": [
       "<Figure size 432x288 with 1 Axes>"
      ]
     },
     "metadata": {
      "needs_background": "light"
     },
     "output_type": "display_data"
    }
   ],
   "source": [
    "print(\"Generating Graphs...\")\n",
    "\n",
    "mentions_list = {}\n",
    "with open('../twitter_data/train2017.tsv') as input_file:\n",
    "    reader = csv.reader(input_file, delimiter='\\t')\n",
    "    for row in reader:\n",
    "        row[3] = row[3].replace('@ ', '@-')\n",
    "        flag = 0\n",
    "        word_tokens = word_tokenize(row[3]) \n",
    "        for word in word_tokens:\n",
    "            word = word.lower()\n",
    "            if flag:\n",
    "                if word.isalpha():\n",
    "                    word = \"@\"+word\n",
    "                    if(word not in mentions_list):\n",
    "                        if(row[2]==\"positive\"):\n",
    "                            mentions_list[word] = 1\n",
    "                        elif(row[2]==\"negative\"):\n",
    "                            mentions_list[word] = -1\n",
    "                    else:\n",
    "                        if(row[2]==\"positive\"):\n",
    "                            mentions_list[word] += 1\n",
    "                        elif(row[2]==\"negative\"):\n",
    "                            mentions_list[word] -= 1\n",
    "                flag = 0\n",
    "            elif(word==\"@\"):\n",
    "                flag = 1\n",
    "\n",
    "best_mentions_dict = {}\n",
    "worst_mentions_dict = {}\n",
    "for key in mentions_list:\n",
    "    if(mentions_list[key]>0):\n",
    "        best_mentions_dict[key] = mentions_list[key]\n",
    "    if(mentions_list[key]<0):\n",
    "        worst_mentions_dict[key] = mentions_list[key]*(-1)\n",
    "                \n",
    "best_mentions = collections.Counter(best_mentions_dict).most_common()\n",
    "worst_mentions = collections.Counter(worst_mentions_dict).most_common()\n",
    "\n",
    "num_of_items = 5\n",
    "\n",
    "df = pd.DataFrame(best_mentions[:num_of_items], columns = ['Mentions for Positive Tweets', 'Total Appearances'])\n",
    "df.plot.barh(x='Mentions for Positive Tweets',y='Total Appearances', color='green')\n",
    "\n",
    "df = pd.DataFrame(worst_mentions[:num_of_items], columns = ['Mentions for Negative Tweets', 'Total Appearances'])\n",
    "df.plot.barh(x='Mentions for Negative Tweets',y='Total Appearances', color='red')\n",
    "\n",
    "print(\"Done.\\n\") "
   ]
  },
  {
   "cell_type": "markdown",
   "metadata": {},
   "source": [
    "## Vectorization - εξαγωγή χαρακτηριστικών\n",
    "Getting the features of each tweet using the methods of:\n",
    "* Bag-of-words\n",
    "* Tf_idf\n",
    "* word embeddings"
   ]
  },
  {
   "cell_type": "code",
   "execution_count": 9,
   "metadata": {},
   "outputs": [],
   "source": [
    "train_tweets = []\n",
    "labels = []\n",
    "with open('../twitter_data/train2017_cleaned.tsv') as input_file:\n",
    "    reader = csv.reader(input_file, delimiter='\\t')\n",
    "    for row in reader:\n",
    "        labels.append(row[2])\n",
    "        train_tweets.append(row[3])\n",
    "\n",
    "test_tweets = []\n",
    "with open('../twitter_data/test2017_cleaned.tsv') as input_file:\n",
    "    reader = csv.reader(input_file, delimiter='\\t')\n",
    "    for row in reader:\n",
    "        test_tweets.append(row[3])"
   ]
  },
  {
   "cell_type": "markdown",
   "metadata": {},
   "source": [
    "### Bag-of-words"
   ]
  },
  {
   "cell_type": "code",
   "execution_count": 10,
   "metadata": {},
   "outputs": [
    {
     "name": "stdout",
     "output_type": "stream",
     "text": [
      "pickles/bow_xtrain.pkl saved successfully.\n",
      "pickles/bow_xtest.pkl saved successfully.\n"
     ]
    }
   ],
   "source": [
    "import pickle\n",
    "from sklearn.feature_extraction.text import CountVectorizer\n",
    "\n",
    "#for train2017_cleaned.tsv\n",
    "bow_vectorizer = CountVectorizer()\n",
    "bow_xtrain = bow_vectorizer.fit_transform(train_tweets)    \n",
    "#bow_xtrain = bow_vectorizer.fit_transform(train_tweets[:3])    \n",
    "#print(bow_xtrain.shape)\n",
    "#print(vectorizer.get_feature_names())\n",
    "#print(bow_xtrain.toarray())\n",
    "output = open('pickles/bow_xtrain.pkl', 'wb')\n",
    "pickle.dump(bow_xtrain, output)\n",
    "output.close()\n",
    "print(\"pickles/bow_xtrain.pkl saved successfully.\")\n",
    "\n",
    "#for test2017_cleaned.tsv\n",
    "bow_vectorizer = CountVectorizer()\n",
    "bow_xtest = bow_vectorizer.fit_transform(test_tweets)    \n",
    "#bow_xtest = bow_vectorizer.fit_transform(test_tweets[:3])    \n",
    "#print(bow_xtest.shape)\n",
    "#print(vectorizer.get_feature_names())\n",
    "#print(bow_xtest.toarray())\n",
    "output = open('pickles/bow_xtest.pkl', 'wb')\n",
    "pickle.dump(bow_xtest, output)\n",
    "output.close()\n",
    "print(\"pickles/bow_xtest.pkl saved successfully.\")"
   ]
  },
  {
   "cell_type": "markdown",
   "metadata": {},
   "source": [
    "### Tf_idf"
   ]
  },
  {
   "cell_type": "code",
   "execution_count": 11,
   "metadata": {},
   "outputs": [
    {
     "name": "stdout",
     "output_type": "stream",
     "text": [
      "pickles/tfdif_xtrain.pkl saved successfully.\n",
      "pickles/tfdif_xtest.pkl saved successfully.\n"
     ]
    }
   ],
   "source": [
    "from sklearn.feature_extraction.text import TfidfVectorizer\n",
    "\n",
    "#for train2017_cleaned.tsv\n",
    "tfidf_vectorizer = TfidfVectorizer()\n",
    "tfdif_xtrain = tfidf_vectorizer.fit_transform(train_tweets)\n",
    "#print(tfdif_xtrain.shape)\n",
    "output = open('pickles/tfdif_xtrain.pkl', 'wb')\n",
    "pickle.dump(tfdif_xtrain, output)\n",
    "output.close()\n",
    "print(\"pickles/tfdif_xtrain.pkl saved successfully.\")\n",
    "\n",
    "#for test2017_cleaned.tsv\n",
    "tfidf_vectorizer = TfidfVectorizer()\n",
    "tfdif_xtest = tfidf_vectorizer.fit_transform(test_tweets)\n",
    "#print(tfdif_xtest.shape)\n",
    "output = open('pickles/tfdif_xtest.pkl', 'wb')\n",
    "pickle.dump(tfdif_xtest, output)\n",
    "output.close()\n",
    "print(\"pickles/tfdif_xtest.pkl saved successfully.\")"
   ]
  },
  {
   "cell_type": "markdown",
   "metadata": {},
   "source": [
    "### word embeddings"
   ]
  },
  {
   "cell_type": "code",
   "execution_count": null,
   "metadata": {},
   "outputs": [],
   "source": [
    "#code here"
   ]
  },
  {
   "cell_type": "markdown",
   "metadata": {
    "scrolled": true
   },
   "source": [
    "## Προσθήκη χαρακτηριστικών στο διάνυσμα λέξης"
   ]
  },
  {
   "cell_type": "code",
   "execution_count": null,
   "metadata": {},
   "outputs": [],
   "source": [
    "#code here"
   ]
  },
  {
   "cell_type": "markdown",
   "metadata": {},
   "source": [
    "## Δοκιμάζουμε Ταξινομήτες\n",
    "\n",
    "* SVM\n",
    "* KNN\n",
    "\n",
    "We are using the above learning models with the features we got from BOW, TFID, word embeddings and lexica-values."
   ]
  },
  {
   "cell_type": "code",
   "execution_count": 12,
   "metadata": {},
   "outputs": [],
   "source": [
    "from sklearn import svm\n",
    "from sklearn.neighbors import KNeighborsClassifier\n",
    "from sklearn.metrics import f1_score\n",
    "\n",
    "#we are inserting to a list the right answers for the tweets\n",
    "answers = []\n",
    "with open('../twitter_data/SemEval2017_task4_subtaskA_test_english_gold.txt') as input_file:\n",
    "    reader = csv.reader(input_file, delimiter='\\t')\n",
    "    for row in reader:\n",
    "        answers.append(row[1])\n",
    "\n",
    "#we are running the validation for total_features\n",
    "#NOTE: later we are going to use train_test_split() function\n",
    "total_features = 2000"
   ]
  },
  {
   "cell_type": "markdown",
   "metadata": {},
   "source": [
    "### SVM | Bag-of-words"
   ]
  },
  {
   "cell_type": "code",
   "execution_count": 13,
   "metadata": {},
   "outputs": [
    {
     "name": "stdout",
     "output_type": "stream",
     "text": [
      "SVM | Bag-of-words: 33% accuracy for 2000 features\n"
     ]
    }
   ],
   "source": [
    "bow_vectorizer = CountVectorizer(max_features = total_features)\n",
    "bow_xtrain = bow_vectorizer.fit_transform(train_tweets[:total_features])\n",
    "bow_xtest = bow_vectorizer.fit_transform(test_tweets[:total_features])\n",
    "\n",
    "svc = svm.SVC(kernel='linear', C=1, probability=True)\n",
    "svc = svc.fit(bow_xtrain, labels[:total_features])\n",
    "y_pred = svc.predict(bow_xtest)\n",
    "      \n",
    "accuracy = f1_score(answers[:total_features], y_pred, average='macro')\n",
    "print(\"SVM | Bag-of-words: {0:.0%} accuracy for\".format(accuracy), total_features, \"features\")"
   ]
  },
  {
   "cell_type": "markdown",
   "metadata": {},
   "source": [
    "### SVM | Tf_idf"
   ]
  },
  {
   "cell_type": "code",
   "execution_count": 14,
   "metadata": {},
   "outputs": [
    {
     "name": "stdout",
     "output_type": "stream",
     "text": [
      "SVM | Tf_idf: 32% accuracy for 2000 features\n"
     ]
    }
   ],
   "source": [
    "tfidf_vectorizer = TfidfVectorizer(max_features = total_features)\n",
    "tfdif_xtrain = tfidf_vectorizer.fit_transform(train_tweets[:total_features])\n",
    "tfdif_xtest = tfidf_vectorizer.fit_transform(test_tweets[:total_features])\n",
    "\n",
    "svc = svm.SVC(kernel='linear', C=1, probability=True)\n",
    "svc = svc.fit(tfdif_xtrain, labels[:total_features])\n",
    "y_pred = svc.predict(tfdif_xtest)\n",
    "      \n",
    "accuracy = f1_score(answers[:total_features], y_pred, average='macro')\n",
    "print(\"SVM | Tf_idf: {0:.0%} accuracy for\".format(accuracy), total_features, \"features\")"
   ]
  },
  {
   "cell_type": "markdown",
   "metadata": {},
   "source": [
    "### KNN | Bag-of-words"
   ]
  },
  {
   "cell_type": "code",
   "execution_count": 15,
   "metadata": {},
   "outputs": [
    {
     "name": "stdout",
     "output_type": "stream",
     "text": [
      "KNN | Bag-of-words: 27% accuracy for 2000 features\n"
     ]
    }
   ],
   "source": [
    "tfidf_vectorizer = TfidfVectorizer(max_features = total_features)\n",
    "tfdif_xtrain = tfidf_vectorizer.fit_transform(train_tweets[:total_features])\n",
    "tfdif_xtest = tfidf_vectorizer.fit_transform(test_tweets[:total_features])\n",
    "\n",
    "knn = KNeighborsClassifier(n_neighbors=5)\n",
    "knn.fit(bow_xtrain, labels[:total_features])\n",
    "y_pred = knn.predict(bow_xtest)\n",
    "      \n",
    "accuracy = f1_score(answers[:total_features], y_pred, average='macro')\n",
    "print(\"KNN | Bag-of-words: {0:.0%} accuracy for\".format(accuracy), total_features, \"features\")"
   ]
  },
  {
   "cell_type": "markdown",
   "metadata": {},
   "source": [
    "### KNN | Tf_idf"
   ]
  },
  {
   "cell_type": "code",
   "execution_count": 16,
   "metadata": {},
   "outputs": [
    {
     "name": "stdout",
     "output_type": "stream",
     "text": [
      "KNN | Tf_idf: 33% accuracy for 2000 features\n"
     ]
    }
   ],
   "source": [
    "tfidf_vectorizer = TfidfVectorizer(max_features = total_features)\n",
    "tfdif_xtrain = tfidf_vectorizer.fit_transform(train_tweets[:total_features])\n",
    "tfdif_xtest = tfidf_vectorizer.fit_transform(test_tweets[:total_features])\n",
    "\n",
    "knn = KNeighborsClassifier(n_neighbors=5)\n",
    "knn.fit(tfdif_xtrain, labels[:total_features])\n",
    "y_pred = knn.predict(tfdif_xtest)\n",
    "      \n",
    "accuracy = f1_score(answers[:total_features], y_pred, average='macro')\n",
    "print(\"KNN | Tf_idf: {0:.0%} accuracy for\".format(accuracy), total_features, \"features\")"
   ]
  },
  {
   "cell_type": "code",
   "execution_count": null,
   "metadata": {},
   "outputs": [],
   "source": []
  }
 ],
 "metadata": {
  "kernelspec": {
   "display_name": "Python 3",
   "language": "python",
   "name": "python3"
  },
  "language_info": {
   "codemirror_mode": {
    "name": "ipython",
    "version": 3
   },
   "file_extension": ".py",
   "mimetype": "text/x-python",
   "name": "python",
   "nbconvert_exporter": "python",
   "pygments_lexer": "ipython3",
   "version": "3.7.3"
  }
 },
 "nbformat": 4,
 "nbformat_minor": 2
}
