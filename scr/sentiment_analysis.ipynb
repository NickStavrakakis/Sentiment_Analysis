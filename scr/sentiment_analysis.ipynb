{
 "cells": [
  {
   "cell_type": "markdown",
   "metadata": {},
   "source": [
    "# Sentiment Analysis"
   ]
  },
  {
   "cell_type": "markdown",
   "metadata": {},
   "source": [
    "## Προεπεξεργασία και καθάρισμα δεδομένων\n",
    "First, we are cleaning the *train2017.tsv* and *test2017.tsv* files and saving them as * *_cleaned.tsv*.\n",
    "More specifically, we are:\n",
    "* lower-casing the tweets\n",
    "* removing symbols (Hashtags, etc.)\n",
    "* removing emojis and unknown characters\n",
    "* deleting completely the mentions(@) and url's.\n",
    "* removing stop-words\n",
    "\n",
    "<strong><em> NOTE: we want stemming for a complete cleaning, but currently its not enabled because it is not suitable for creating Wordclouds </em></strong> "
   ]
  },
  {
   "cell_type": "code",
   "execution_count": 1,
   "metadata": {},
   "outputs": [
    {
     "name": "stdout",
     "output_type": "stream",
     "text": [
      "Cleaning train2017.tsv...\n",
      "Done. Saved as train2017_cleaned.tsv\n",
      "\n",
      "Cleaning test2017.tsv...\n",
      "Done. Saved as test2017_cleaned.tsv\n",
      "\n"
     ]
    }
   ],
   "source": [
    "import string\n",
    "import csv\n",
    "import re\n",
    "from nltk.corpus import stopwords\n",
    "from nltk.tokenize import word_tokenize\n",
    "\n",
    "def cleaning(s):\n",
    "    s = re.sub(r\"(?:\\@|http)\\S+\", \"\", s) #removing urls and mentions\n",
    "    s = s.lower() #lowercase the current tweet\n",
    "    for char in string.punctuation:\n",
    "        s = s.replace(char, '')\n",
    "    cleared_string = \"\"\n",
    "    word_tokens = word_tokenize(s) \n",
    "    for word in word_tokens:\n",
    "        if word not in stopwords.words('english') and all(ord(char) < 128 for char in word):\n",
    "                #cleared_string += stemming(word) #not for wordclouds\n",
    "                cleared_string += word\n",
    "                cleared_string += ' '\n",
    "    return cleared_string\n",
    "\n",
    "print(\"Cleaning train2017.tsv...\")\n",
    "with open('../twitter_data/train2017.tsv') as input_file, open('../twitter_data/train2017_cleaned.tsv', 'w') as output_file:\n",
    "    reader = csv.reader(input_file, delimiter='\\t')\n",
    "    for row in reader:\n",
    "        cleaned_tweet = cleaning(row[3])\n",
    "        output_file.write(row[0] + '\\t' + row[1] + '\\t' + row[2] + '\\t' + cleaned_tweet + '\\n')\n",
    "print(\"Done. Saved as train2017_cleaned.tsv\\n\")\n",
    "\n",
    "print(\"Cleaning test2017.tsv...\")\n",
    "with open('../twitter_data/test2017.tsv') as input_file, open('../twitter_data/test2017_cleaned.tsv', 'w') as output_file:\n",
    "    reader = csv.reader(input_file, delimiter='\\t')\n",
    "    for row in reader:\n",
    "        cleaned_tweet = cleaning(row[3])\n",
    "        output_file.write(row[0] + '\\t' + row[1] + '\\t' + row[2] + '\\t' + cleaned_tweet + '\\n')\n",
    "print(\"Done. Saved as test2017_cleaned.tsv\\n\")"
   ]
  },
  {
   "cell_type": "markdown",
   "metadata": {},
   "source": [
    "## Ανάλυση των δεδομένων\n",
    "We are showing (for the *train2017_cleaned.tsv*) the\n",
    "* most common words in the whole dataset\n",
    "* most common words in the whole dataset for negative, positive and neutral tweets, respectively.\n",
    "\n",
    "<strong><em> NOTE: Later, it would be useful to do some more research and graphs about our datasets. </em></strong>"
   ]
  },
  {
   "cell_type": "code",
   "execution_count": 2,
   "metadata": {},
   "outputs": [
    {
     "name": "stdout",
     "output_type": "stream",
     "text": [
      "Generating WordClouds...\n",
      "Done. Saved in scr/wordclouds folder.\n",
      "\n"
     ]
    }
   ],
   "source": [
    "from wordcloud import WordCloud\n",
    "import matplotlib.pyplot as plt\n",
    "\n",
    "def generate_wc(x, name):\n",
    "    curr_wc = WordCloud( background_color = 'white', stopwords = stopwords.words('english'), min_font_size = 10).generate(x)\n",
    "    plt.figure(figsize = [8, 8])\n",
    "    plt.imshow(curr_wc, interpolation=\"bilinear\")\n",
    "    plt.axis(\"off\")\n",
    "    name = 'wordclouds/' + name + '.png'\n",
    "    plt.savefig(name, format=\"png\")\n",
    "\n",
    "print(\"Generating WordClouds...\")\n",
    "train_tweets = []\n",
    "pos_tweets = []\n",
    "neg_tweets = []\n",
    "neu_tweets = []\n",
    "labels = []\n",
    "with open('../twitter_data/train2017_cleaned.tsv') as input_file:\n",
    "    reader = csv.reader(input_file, delimiter='\\t')\n",
    "    for row in reader:\n",
    "        train_tweets.append(row[3])\n",
    "        labels.append(row[2]) #also getting the labels\n",
    "        if row[2] == \"positive\":\n",
    "            pos_tweets.append(row[3])\n",
    "        elif row[2] == \"negative\":\n",
    "            neg_tweets.append(row[3])\n",
    "        else: #if neutral\n",
    "            neu_tweets.append(row[3])\n",
    "\n",
    "generate_wc((\" \").join(train_tweets), \"tweets_wordcloud\")\n",
    "generate_wc((\" \").join(pos_tweets), \"pos_tweets_wordcloud\")\n",
    "generate_wc((\" \").join(neg_tweets), \"neg_tweets_wordcloud\")\n",
    "generate_wc((\" \").join(neu_tweets), \"neu_tweets_wordcloud\")\n",
    "print(\"Done. Saved in scr/wordclouds folder.\\n\")"
   ]
  },
  {
   "cell_type": "markdown",
   "metadata": {},
   "source": [
    "## Vectorization - εξαγωγή χαρακτηριστικών\n",
    "Getting the features of each tweet using the methods of:\n",
    "* Bag-of-words\n",
    "* Tf_idf\n",
    "* word embeddings"
   ]
  },
  {
   "cell_type": "code",
   "execution_count": 3,
   "metadata": {},
   "outputs": [],
   "source": [
    "test_tweets = []\n",
    "with open('../twitter_data/test2017_cleaned.tsv') as input_file:\n",
    "    reader = csv.reader(input_file, delimiter='\\t')\n",
    "    for row in reader:\n",
    "        test_tweets.append(row[3])"
   ]
  },
  {
   "cell_type": "markdown",
   "metadata": {},
   "source": [
    "### Bag-of-words"
   ]
  },
  {
   "cell_type": "code",
   "execution_count": 4,
   "metadata": {},
   "outputs": [
    {
     "name": "stdout",
     "output_type": "stream",
     "text": [
      "pickles/bow_xtrain.pkl saved successfully.\n",
      "pickles/bow_xtest.pkl saved successfully.\n"
     ]
    }
   ],
   "source": [
    "import pickle\n",
    "from sklearn.feature_extraction.text import CountVectorizer\n",
    "\n",
    "#for train2017_cleaned.tsv\n",
    "bow_vectorizer = CountVectorizer()\n",
    "bow_xtrain = bow_vectorizer.fit_transform(train_tweets)    \n",
    "#bow_xtrain = bow_vectorizer.fit_transform(train_tweets[:3])    \n",
    "#print(bow_xtrain.shape)\n",
    "#print(vectorizer.get_feature_names())\n",
    "#print(bow_xtrain.toarray())\n",
    "output = open('pickles/bow_xtrain.pkl', 'wb')\n",
    "pickle.dump(bow_xtrain, output)\n",
    "output.close()\n",
    "print(\"pickles/bow_xtrain.pkl saved successfully.\")\n",
    "\n",
    "#for test2017_cleaned.tsv\n",
    "bow_vectorizer = CountVectorizer()\n",
    "bow_xtest = bow_vectorizer.fit_transform(test_tweets)    \n",
    "#bow_xtest = bow_vectorizer.fit_transform(test_tweets[:3])    \n",
    "#print(bow_xtest.shape)\n",
    "#print(vectorizer.get_feature_names())\n",
    "#print(bow_xtest.toarray())\n",
    "output = open('pickles/bow_xtest.pkl', 'wb')\n",
    "pickle.dump(bow_xtest, output)\n",
    "output.close()\n",
    "print(\"pickles/bow_xtest.pkl saved successfully.\")"
   ]
  },
  {
   "cell_type": "markdown",
   "metadata": {},
   "source": [
    "### Tf_idf"
   ]
  },
  {
   "cell_type": "code",
   "execution_count": 5,
   "metadata": {},
   "outputs": [
    {
     "name": "stdout",
     "output_type": "stream",
     "text": [
      "pickles/tfdif_xtrain.pkl saved successfully.\n",
      "pickles/tfdif_xtest.pkl saved successfully.\n"
     ]
    }
   ],
   "source": [
    "from sklearn.feature_extraction.text import TfidfVectorizer\n",
    "\n",
    "#for train2017_cleaned.tsv\n",
    "tfidf_vectorizer = TfidfVectorizer()\n",
    "tfdif_xtrain = tfidf_vectorizer.fit_transform(train_tweets)\n",
    "#print(tfdif_xtrain.shape)\n",
    "output = open('pickles/tfdif_xtrain.pkl', 'wb')\n",
    "pickle.dump(tfdif_xtrain, output)\n",
    "output.close()\n",
    "print(\"pickles/tfdif_xtrain.pkl saved successfully.\")\n",
    "\n",
    "#for test2017_cleaned.tsv\n",
    "tfidf_vectorizer = TfidfVectorizer()\n",
    "tfdif_xtest = tfidf_vectorizer.fit_transform(test_tweets)\n",
    "#print(tfdif_xtest.shape)\n",
    "output = open('pickles/tfdif_xtest.pkl', 'wb')\n",
    "pickle.dump(tfdif_xtest, output)\n",
    "output.close()\n",
    "print(\"pickles/tfdif_xtest.pkl saved successfully.\")"
   ]
  },
  {
   "cell_type": "markdown",
   "metadata": {},
   "source": [
    "### word embeddings"
   ]
  },
  {
   "cell_type": "code",
   "execution_count": 6,
   "metadata": {},
   "outputs": [],
   "source": [
    "#code here"
   ]
  },
  {
   "cell_type": "markdown",
   "metadata": {
    "scrolled": true
   },
   "source": [
    "## Προσθήκη χαρακτηριστικών στο διάνυσμα λέξης"
   ]
  },
  {
   "cell_type": "code",
   "execution_count": 7,
   "metadata": {},
   "outputs": [],
   "source": [
    "#code here"
   ]
  },
  {
   "cell_type": "markdown",
   "metadata": {},
   "source": [
    "## Δοκιμάζουμε Ταξινομήτες\n",
    "\n",
    "* SVM\n",
    "* KNN\n",
    "\n",
    "We are using the above learning models with the features we got from BOW, TFID, word embeddings and lexica-values."
   ]
  },
  {
   "cell_type": "code",
   "execution_count": 8,
   "metadata": {},
   "outputs": [],
   "source": [
    "#we are inserting to a list the right answers for the tweets\n",
    "answers = []\n",
    "with open('../twitter_data/SemEval2017_task4_subtaskA_test_english_gold.txt') as input_file:\n",
    "    reader = csv.reader(input_file, delimiter='\\t')\n",
    "    for row in reader:\n",
    "        answers.append(row[1])\n",
    "\n",
    "#we are running the validation for total_features\n",
    "#NOTE: later we are going to use train_test_split() function\n",
    "total_features = 2000"
   ]
  },
  {
   "cell_type": "markdown",
   "metadata": {},
   "source": [
    "### SVM | Bag-of-words"
   ]
  },
  {
   "cell_type": "code",
   "execution_count": 9,
   "metadata": {},
   "outputs": [
    {
     "name": "stdout",
     "output_type": "stream",
     "text": [
      "SVM | Bag-of-words: 36% accuracy for 2000 features\n"
     ]
    }
   ],
   "source": [
    "from sklearn import svm\n",
    "from sklearn.metrics import f1_score\n",
    "\n",
    "bow_vectorizer = CountVectorizer(max_features = total_features)\n",
    "bow_xtrain = bow_vectorizer.fit_transform(train_tweets[:total_features])\n",
    "bow_xtest = bow_vectorizer.fit_transform(test_tweets[:total_features])\n",
    "\n",
    "svc = svm.SVC(kernel='linear', C=1, probability=True)\n",
    "svc = svc.fit(bow_xtrain, labels[:total_features])\n",
    "y_pred = svc.predict(bow_xtest)\n",
    "      \n",
    "accuracy = f1_score(answers[:total_features], y_pred, average='macro')\n",
    "print(\"SVM | Bag-of-words: {0:.0%} accuracy for\".format(accuracy), total_features, \"features\")"
   ]
  },
  {
   "cell_type": "markdown",
   "metadata": {},
   "source": [
    "### SVM | Tf_idf"
   ]
  },
  {
   "cell_type": "code",
   "execution_count": 10,
   "metadata": {},
   "outputs": [
    {
     "name": "stdout",
     "output_type": "stream",
     "text": [
      "SVM | Tf_idf: 33% accuracy for 2000 features\n"
     ]
    }
   ],
   "source": [
    "tfidf_vectorizer = TfidfVectorizer(max_features = total_features)\n",
    "tfdif_xtrain = tfidf_vectorizer.fit_transform(train_tweets[:total_features])\n",
    "tfdif_xtest = tfidf_vectorizer.fit_transform(test_tweets[:total_features])\n",
    "\n",
    "svc = svm.SVC(kernel='linear', C=1, probability=True)\n",
    "svc = svc.fit(tfdif_xtrain, labels[:total_features])\n",
    "y_pred = svc.predict(tfdif_xtest)\n",
    "      \n",
    "accuracy = f1_score(answers[:total_features], y_pred, average='macro')\n",
    "print(\"SVM | Tf_idf: {0:.0%} accuracy for\".format(accuracy), total_features, \"features\")"
   ]
  }
 ],
 "metadata": {
  "kernelspec": {
   "display_name": "Python 3",
   "language": "python",
   "name": "python3"
  },
  "language_info": {
   "codemirror_mode": {
    "name": "ipython",
    "version": 3
   },
   "file_extension": ".py",
   "mimetype": "text/x-python",
   "name": "python",
   "nbconvert_exporter": "python",
   "pygments_lexer": "ipython3",
   "version": "3.7.3"
  }
 },
 "nbformat": 4,
 "nbformat_minor": 2
}
